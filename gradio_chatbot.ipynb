{
  "cells": [
    {
      "cell_type": "markdown",
      "metadata": {
        "id": "view-in-github",
        "colab_type": "text"
      },
      "source": [
        "<a href=\"https://colab.research.google.com/github/GiovanniTRA/text-to-taste/blob/main/gradio_chatbot.ipynb\" target=\"_parent\"><img src=\"https://colab.research.google.com/assets/colab-badge.svg\" alt=\"Open In Colab\"/></a>"
      ]
    },
    {
      "cell_type": "markdown",
      "id": "302934307671667531413257853548643485645",
      "metadata": {
        "id": "302934307671667531413257853548643485645"
      },
      "source": [
        "# Gradio Demo: chatbot_multimodal"
      ]
    },
    {
      "cell_type": "code",
      "execution_count": null,
      "id": "272996653310673477252411125948039410165",
      "metadata": {
        "id": "272996653310673477252411125948039410165"
      },
      "outputs": [],
      "source": [
        "!pip install -q gradio"
      ]
    },
    {
      "cell_type": "code",
      "source": [
        "!pip install openai"
      ],
      "metadata": {
        "id": "JamaBw_5AtD_"
      },
      "id": "JamaBw_5AtD_",
      "execution_count": null,
      "outputs": []
    },
    {
      "cell_type": "code",
      "source": [
        "from google.colab import drive\n",
        "drive.flush_and_unmount()\n",
        "drive.mount('/content/drive/')\n",
        "general_path = \"/content/drive/My Drive/AriaProject_Text-to-Taste\""
      ],
      "metadata": {
        "colab": {
          "base_uri": "https://localhost:8080/"
        },
        "id": "P8ipqCKXDPJ7",
        "outputId": "9fd286c1-4dac-4415-8b18-cbb025f24455"
      },
      "id": "P8ipqCKXDPJ7",
      "execution_count": null,
      "outputs": [
        {
          "output_type": "stream",
          "name": "stdout",
          "text": [
            "Mounted at /content/drive/\n"
          ]
        }
      ]
    },
    {
      "cell_type": "code",
      "source": [
        "import os\n",
        "import time\n",
        "import json\n",
        "import random\n",
        "import openai\n",
        "from pprint import pprint\n",
        "\n",
        "# OpenAI API Key\n",
        "API_KEY = \"<Your API key>\"\n",
        "os.environ[\"OPENAI_API_KEY\"] = API_KEY"
      ],
      "metadata": {
        "id": "R8_r_V_VAzDN"
      },
      "id": "R8_r_V_VAzDN",
      "execution_count": null,
      "outputs": []
    },
    {
      "cell_type": "markdown",
      "source": [
        "# Import OCR, recommendations and personal preferences"
      ],
      "metadata": {
        "id": "vOlAOMHePUPO"
      },
      "id": "vOlAOMHePUPO"
    },
    {
      "cell_type": "code",
      "source": [
        "with open(f\"{general_path}/ocr_italian.txt\", \"rb\") as image_file:\n",
        "  menu = image_file.read().decode('utf-8')"
      ],
      "metadata": {
        "id": "Dxinx0UUDewD"
      },
      "id": "Dxinx0UUDewD",
      "execution_count": null,
      "outputs": []
    },
    {
      "cell_type": "code",
      "source": [
        "with open(f\"{general_path}/recommendation_output_italian.txt\", \"rb\") as image_file:\n",
        "  recommendations = image_file.read().decode('utf-8')"
      ],
      "metadata": {
        "id": "1i7RIz_i-5sj"
      },
      "id": "1i7RIz_i-5sj",
      "execution_count": null,
      "outputs": []
    },
    {
      "cell_type": "code",
      "source": [
        "with open(f\"{general_path}/photos.json\", 'r') as f:\n",
        "  photos = json.load(f)\n",
        "\n",
        "# List of attributes to keep\n",
        "attributes_to_keep = [\"start_time\", \"address\", \"details\"]\n",
        "\n",
        "photos_less_info = []\n",
        "for p in photos:\n",
        "  new_p = {key: p[key] for key in attributes_to_keep }\n",
        "  photos_less_info.append(new_p)\n",
        "\n",
        "photos_str = json.dumps(photos_less_info, separators=(',', ':'))"
      ],
      "metadata": {
        "id": "gsZwKSPCDh_l"
      },
      "id": "gsZwKSPCDh_l",
      "execution_count": null,
      "outputs": []
    },
    {
      "cell_type": "code",
      "source": [
        "with open(f\"{general_path}/Valia's preferences.txt\", \"rb\") as image_file:\n",
        "  preferences = image_file.read().decode('utf-8')"
      ],
      "metadata": {
        "id": "HfwLYS9ODG0S"
      },
      "id": "HfwLYS9ODG0S",
      "execution_count": null,
      "outputs": []
    },
    {
      "cell_type": "markdown",
      "source": [
        "# Chatbot"
      ],
      "metadata": {
        "id": "Tl0UjPP4PcqQ"
      },
      "id": "Tl0UjPP4PcqQ"
    },
    {
      "cell_type": "code",
      "source": [
        "def chat_completion(messages: list) -> str:\n",
        "    try:\n",
        "        client = openai.OpenAI()\n",
        "\n",
        "        completion = client.chat.completions.create(\n",
        "            model='gpt-3.5-turbo-16k',\n",
        "            # model='gpt-4',\n",
        "            messages=messages,\n",
        "            max_tokens=4096\n",
        "        )\n",
        "        return completion.choices[0].message.content\n",
        "    except Exception as error:\n",
        "        print(\"Error\", error)\n",
        "        return 'We are facing a technical issue at this moment.'\n",
        "\n",
        "def generate_messages(messages: list, query: str) -> list:\n",
        "    formated_messages = [\n",
        "        {\n",
        "            'role': 'system',\n",
        "            'content': f\"\"\"You are a personal assistant and food recommender. You are given a menù, personal past food experiences in a JSON form and categories of food I like in input.\n",
        "            Menù: {menu}\n",
        "            Personal past food experiences in JSON format: {photos_str}\n",
        "            Food categories I like: {preferences}\n",
        "            Previously you recommended the following: {recommendations}\"\"\"\n",
        "        }\n",
        "    ]\n",
        "    for m in messages:\n",
        "        formated_messages.append({\n",
        "            'role': 'user',\n",
        "            'content': m[0]\n",
        "        })\n",
        "        formated_messages.append({\n",
        "            'role': 'assistant',\n",
        "            'content': m[1]\n",
        "        })\n",
        "    formated_messages.append(\n",
        "        {\n",
        "            'role': 'user',\n",
        "            'content': query\n",
        "        }\n",
        "    )\n",
        "    return formated_messages\n",
        "\n",
        "def generate_response(query: str, chat_history: list) -> tuple:\n",
        "  messages = generate_messages(chat_history, query)\n",
        "  # pprint(messages)\n",
        "  bot_message = chat_completion(messages)\n",
        "  chat_history.append((query, bot_message))\n",
        "  time.sleep(random.randint(0, 5))\n",
        "  return '', chat_history"
      ],
      "metadata": {
        "id": "J2alrprHAgPh"
      },
      "id": "J2alrprHAgPh",
      "execution_count": null,
      "outputs": []
    },
    {
      "cell_type": "code",
      "source": [
        "import gradio as gr\n",
        "\n",
        "\n",
        "with gr.Blocks() as demo:\n",
        "\n",
        "    chatbot = gr.Chatbot(label='Openai Chatbot', height=550)\n",
        "    msg = gr.Textbox()\n",
        "    clear = gr.ClearButton([msg, chatbot])\n",
        "\n",
        "    msg.submit(generate_response, [msg, chatbot], [msg, chatbot])\n",
        "\n",
        "# demo.launch()\n",
        "if __name__ == \"__main__\":\n",
        "    demo.launch(show_api=False, debug=True)"
      ],
      "metadata": {
        "id": "ykymWyeUAb7e"
      },
      "id": "ykymWyeUAb7e",
      "execution_count": null,
      "outputs": []
    },
    {
      "cell_type": "code",
      "source": [
        "# import gradio as gr\n",
        "\n",
        "# def greet(name):\n",
        "#     return \"Hello \" + name + \"!\", \"prova\"\n",
        "\n",
        "# demo = gr.Interface(fn=greet, inputs=\"text\", outputs=[\"text\", \"text\"])\n",
        "\n",
        "# if __name__ == \"__main__\":\n",
        "#     demo.launch(show_api=False, debug=True)"
      ],
      "metadata": {
        "id": "9zRWWp5EezJr"
      },
      "id": "9zRWWp5EezJr",
      "execution_count": null,
      "outputs": []
    }
  ],
  "metadata": {
    "colab": {
      "provenance": [],
      "include_colab_link": true
    },
    "language_info": {
      "name": "python"
    },
    "kernelspec": {
      "name": "python3",
      "display_name": "Python 3"
    }
  },
  "nbformat": 4,
  "nbformat_minor": 5
}