{
  "nbformat": 4,
  "nbformat_minor": 0,
  "metadata": {
    "colab": {
      "provenance": [],
      "include_colab_link": true
    },
    "kernelspec": {
      "name": "python3",
      "display_name": "Python 3"
    },
    "language_info": {
      "name": "python"
    }
  },
  "cells": [
    {
      "cell_type": "markdown",
      "metadata": {
        "id": "view-in-github",
        "colab_type": "text"
      },
      "source": [
        "<a href=\"https://colab.research.google.com/github/GiovanniTRA/text-to-taste/blob/main/get_recommendations.ipynb\" target=\"_parent\"><img src=\"https://colab.research.google.com/assets/colab-badge.svg\" alt=\"Open In Colab\"/></a>"
      ]
    },
    {
      "cell_type": "code",
      "execution_count": null,
      "metadata": {
        "id": "H6VddXWiwPAp"
      },
      "outputs": [],
      "source": [
        "!pip install langchain\n",
        "!pip install openai"
      ]
    },
    {
      "cell_type": "code",
      "source": [
        "import os\n",
        "import re\n",
        "import json\n",
        "import locale\n",
        "import base64\n",
        "import requests\n",
        "from pprint import pprint\n",
        "locale.getpreferredencoding = lambda: \"UTF-8\"\n",
        "\n",
        "# OpenAI API Key\n",
        "API_KEY = \"<Insert your API key>\""
      ],
      "metadata": {
        "id": "s1M6vSNixFou"
      },
      "execution_count": null,
      "outputs": []
    },
    {
      "cell_type": "code",
      "source": [
        "from google.colab import drive\n",
        "drive.flush_and_unmount()\n",
        "drive.mount('/content/drive/')\n",
        "general_path = \"/content/drive/My Drive/AriaProject_Text-to-Taste\""
      ],
      "metadata": {
        "colab": {
          "base_uri": "https://localhost:8080/"
        },
        "id": "6YSQGd13zzEe",
        "outputId": "ff4fd4bc-cb91-465d-f27b-6b483394788a"
      },
      "execution_count": null,
      "outputs": [
        {
          "output_type": "stream",
          "name": "stdout",
          "text": [
            "Mounted at /content/drive/\n"
          ]
        }
      ]
    },
    {
      "cell_type": "markdown",
      "source": [
        "# 1. Perform OCR over the menu image"
      ],
      "metadata": {
        "id": "XZVWRmpcN0Ub"
      }
    },
    {
      "cell_type": "code",
      "source": [
        "# Function to encode the image\n",
        "def encode_image(image_path):\n",
        "  with open(image_path, \"rb\") as image_file:\n",
        "    return base64.b64encode(image_file.read()).decode('utf-8')"
      ],
      "metadata": {
        "id": "4A2-IuUpdMhx"
      },
      "execution_count": null,
      "outputs": []
    },
    {
      "cell_type": "code",
      "source": [
        "# Path to your image\n",
        "image_name = \"PolishMenu\"\n",
        "image_path = f\"{general_path}/recordings/{image_name}.png\"\n",
        "\n",
        "# Getting the base64 string\n",
        "base64_image = encode_image(image_path)"
      ],
      "metadata": {
        "id": "6-0dHIV4ynNl"
      },
      "execution_count": null,
      "outputs": []
    },
    {
      "cell_type": "code",
      "source": [
        "# !pip install easyocr"
      ],
      "metadata": {
        "id": "iDPkMnsnrpm3"
      },
      "execution_count": null,
      "outputs": []
    },
    {
      "cell_type": "code",
      "source": [
        "# import easyocr\n",
        "# from PIL import Image\n",
        "# import numpy as np\n",
        "\n",
        "# imsize = 3072\n",
        "# confidence_thres = 0.2\n",
        "\n",
        "# ocr_dict = {\n",
        "#     'timestamps': [],\n",
        "#     'texts': [],\n",
        "#     'bboxes': [],\n",
        "# }\n",
        "\n",
        "# reader = easyocr.Reader(['en',])  # Load EasyOCR model. Only need to be called once.\n",
        "\n",
        "# for sample in tqdm(sample_timestamps):\n",
        "\n",
        "#     # Fetch image\n",
        "#     image_tuple = provider.get_image_data_by_time_ns(rgb_stream_id, int(sample), time_domain, option)\n",
        "#     image_array = image_tuple[0].to_numpy_array()\n",
        "#     image = Image.fromarray(image_array)\n",
        "#     new_size = (imsize, imsize)\n",
        "#     image = np.asarray(image.resize(new_size).rotate(-90))\n",
        "#     result = reader.readtext(image)\n",
        "#     print(f\"result: {result}\")\n",
        "\n",
        "#     if result is not None:\n",
        "#       ocr_dict['timestamps'].append(sample)\n",
        "#       ocr_dict['bboxes'].append([res[0] for res in result if res[2]> confidence_thres])\n",
        "#       ocr_dict['texts'].append([res[1] for res in result if res[2]> confidence_thres])\n"
      ],
      "metadata": {
        "id": "0akaPKoVrRv-"
      },
      "execution_count": null,
      "outputs": []
    },
    {
      "cell_type": "code",
      "source": [
        "def get_menu_content(base64_image):\n",
        "  headers = {\n",
        "    \"Content-Type\": \"application/json\",\n",
        "    \"Authorization\": f\"Bearer {API_KEY}\"\n",
        "  }\n",
        "\n",
        "  payload = {\n",
        "    \"model\": \"gpt-4-vision-preview\",\n",
        "    \"messages\": [\n",
        "      {\n",
        "        \"role\": \"user\",\n",
        "        \"content\": [\n",
        "          {\n",
        "            \"type\": \"text\",\n",
        "            \"text\": \"I have a vision impairment, can you help me read this menu\"\n",
        "          },\n",
        "          {\n",
        "            \"type\": \"image_url\",\n",
        "            \"image_url\": {\n",
        "              \"url\": f\"data:image/jpeg;base64,{base64_image}\"\n",
        "            }\n",
        "          }\n",
        "        ]\n",
        "      }\n",
        "    ],\n",
        "    \"max_tokens\": 4096\n",
        "  }\n",
        "\n",
        "  response = requests.post(\"https://api.openai.com/v1/chat/completions\", headers=headers, json=payload)\n",
        "  return response\n",
        "  menu_content = response.json()['choices'][0]['message']['content']\n",
        "  return menu_content"
      ],
      "metadata": {
        "id": "xP21T7ujyDxw"
      },
      "execution_count": null,
      "outputs": []
    },
    {
      "cell_type": "code",
      "source": [
        "menu_content = get_menu_content(base64_image)\n",
        "menu_content = menu_content.json()['choices'][0]['message']['content']"
      ],
      "metadata": {
        "id": "vYxSNVtgglEI"
      },
      "execution_count": null,
      "outputs": []
    },
    {
      "cell_type": "code",
      "source": [
        "f = open(f\"{general_path}/ocr_polish.txt\", \"w\")\n",
        "f.write(menu_content)\n",
        "f.close()"
      ],
      "metadata": {
        "id": "EgSEkfP53xLn"
      },
      "execution_count": null,
      "outputs": []
    },
    {
      "cell_type": "code",
      "source": [
        "pprint(menu_content)"
      ],
      "metadata": {
        "colab": {
          "base_uri": "https://localhost:8080/"
        },
        "id": "wDIPk6pkgn__",
        "outputId": "baf6cb0a-e8dd-43f8-e9f8-98a2e5c8bbf5"
      },
      "execution_count": null,
      "outputs": [
        {
          "output_type": "stream",
          "name": "stdout",
          "text": [
            "(\"Of course, I'd be glad to assist. It appears this photo is depicting a menu \"\n",
            " 'written in Polish. Due to the curvature of the paper and the distance from '\n",
            " 'the camera, some of the words may not be perfectly clear, but I will do my '\n",
            " 'best to transcribe and translate what is visible:\\n'\n",
            " '\\n'\n",
            " '**KARTA DAŃ**\\n'\n",
            " '(This means \"Menu\")\\n'\n",
            " '\\n'\n",
            " '**Przystawki** (Appetizers)\\n'\n",
            " '- Przegrzebki [32,-] (Scallops)\\n'\n",
            " '- Tatar z polędwicy wołowej [?] (Beef tenderloin tartare)\\n'\n",
            " '- Carpaccio jagnięce [29,-] (Lamb carpaccio)\\n'\n",
            " '\\n'\n",
            " '**Zupy** (Soups)\\n'\n",
            " '- Rosół [12,-] (Broth)\\n'\n",
            " '- Chłodnik [?] (A type of cold beet soup)\\n'\n",
            " '- Krem z cukinii [12,-] (Cream of zucchini)\\n'\n",
            " '\\n'\n",
            " '**Ryby i owoce morza** (Fish and Seafood)\\n'\n",
            " '- Dorada [42,-] (Gilt-head bream)\\n'\n",
            " '- Łosoś [?] (Salmon)\\n'\n",
            " '- Krewetki [?] (Shrimp)\\n'\n",
            " '\\n'\n",
            " '**Sałatki** (Salads)\\n'\n",
            " '- z krewetkami [24,-] (with shrimp)\\n'\n",
            " '- Cezar [?] (Caesar)\\n'\n",
            " '\\n'\n",
            " '**Pasta**\\n'\n",
            " '- Fregola [28,-] (a type of pasta, possibly served with specific toppings or '\n",
            " 'sauces)\\n'\n",
            " '\\n'\n",
            " '**Mięsa** (Meats)\\n'\n",
            " '- Burger wołowy [25,-] (Beef burger)\\n'\n",
            " '- Pierś z kaczki sous vide [41,-] (Duck breast sous vide)\\n'\n",
            " '- Filet z kurczaka [?] (Chicken fillet)\\n'\n",
            " '\\n'\n",
            " 'The prices appear to be given in złoty (PLN), the Polish currency, but the '\n",
            " 'exact figure for some items is obscured.\\n'\n",
            " '\\n'\n",
            " 'Please let me know if you need any additional help or information about this '\n",
            " 'menu!\\n')\n"
          ]
        }
      ]
    },
    {
      "cell_type": "markdown",
      "source": [
        "## Import food preferences"
      ],
      "metadata": {
        "id": "T621iUcfOCpc"
      }
    },
    {
      "cell_type": "code",
      "source": [
        "with open(f\"{general_path}/ocr_indian.txt\", \"rb\") as image_file:\n",
        "  menu_content = image_file.read().decode('utf-8')"
      ],
      "metadata": {
        "id": "xynWqkj-ryer"
      },
      "execution_count": null,
      "outputs": []
    },
    {
      "cell_type": "code",
      "source": [
        "with open(f\"{general_path}/photos.json\", 'r') as f:\n",
        "  photos = json.load(f)\n",
        "\n",
        "# List of attributes to keep\n",
        "attributes_to_keep = [\"start_time\", \"address\", \"details\"]\n",
        "\n",
        "photos_less_info = []\n",
        "for p in photos:\n",
        "  new_p = {key: p[key] for key in attributes_to_keep }\n",
        "  photos_less_info.append(new_p)\n",
        "\n",
        "photos_str = json.dumps(photos_less_info, separators=(',', ':'))"
      ],
      "metadata": {
        "id": "6HADGYwn4HZb"
      },
      "execution_count": null,
      "outputs": []
    },
    {
      "cell_type": "code",
      "source": [
        "with open(f\"{general_path}/Valia's preferences.txt\", \"rb\") as image_file:\n",
        "  preferences = image_file.read().decode('utf-8')"
      ],
      "metadata": {
        "id": "PTzlXYis97uR"
      },
      "execution_count": null,
      "outputs": []
    },
    {
      "cell_type": "markdown",
      "source": [
        "# 2. Get recommendations"
      ],
      "metadata": {
        "id": "IRoMtYxrONjZ"
      }
    },
    {
      "cell_type": "code",
      "source": [
        "from langchain.chat_models import ChatOpenAI\n",
        "from langchain import PromptTemplate\n",
        "from langchain.prompts.chat import ChatPromptTemplate\n",
        "\n",
        "os.environ[\"OPENAI_API_KEY\"] = API_KEY"
      ],
      "metadata": {
        "id": "dwbNkSL_KYvJ"
      },
      "execution_count": null,
      "outputs": []
    },
    {
      "cell_type": "code",
      "source": [
        "def get_recommendation(menu_content, photos_str, category_str):\n",
        "  chat_model = ChatOpenAI(model_name=\"gpt-4-1106-preview\", temperature=0.1)\n",
        "  template = f\"\"\"Given a menù, personal past food experiences in a JSON form and categories of food I like, you have to suggest what I should choose from the menù based on my preferences. Give me 3 recommendations\"\"\"\n",
        "  human_template = \"\"\"Menù: {menu}\n",
        "  Personal past food experiences in JSON format: {data}\n",
        "  Food categories I like: {category}\"\"\"\n",
        "\n",
        "  chat_prompt = ChatPromptTemplate.from_messages([\n",
        "      (\"system\", template),\n",
        "      (\"human\", human_template),\n",
        "  ])\n",
        "\n",
        "  chain = chat_prompt | ChatOpenAI()\n",
        "\n",
        "  recommendation = chain.invoke({\"menu\": menu_content, \"data\": photos_str, \"category\": category_str})\n",
        "  return recommendation"
      ],
      "metadata": {
        "id": "ntuwjeDPez81"
      },
      "execution_count": null,
      "outputs": []
    },
    {
      "cell_type": "code",
      "source": [
        "recommendation_output = get_recommendation(menu_content, photos_str, preferences)\n",
        "recommendation_output = recommendation_output.content"
      ],
      "metadata": {
        "id": "roIqPH6biJ0D"
      },
      "execution_count": null,
      "outputs": []
    },
    {
      "cell_type": "code",
      "source": [
        "f = open(f\"{general_path}/recommendation_output_polish.txt\", \"w\")\n",
        "f.write(recommendation_output)\n",
        "f.close()"
      ],
      "metadata": {
        "id": "RKYXo1UXvR_6"
      },
      "execution_count": null,
      "outputs": []
    },
    {
      "cell_type": "code",
      "source": [
        "with open(f\"{general_path}/recommendation_output_indian.txt\", \"rb\") as image_file:\n",
        "  recommendation_output = image_file.read().decode('utf-8')"
      ],
      "metadata": {
        "id": "0iUDUuVc65j5"
      },
      "execution_count": null,
      "outputs": []
    },
    {
      "cell_type": "code",
      "source": [
        "pprint(recommendation_output)"
      ],
      "metadata": {
        "colab": {
          "base_uri": "https://localhost:8080/"
        },
        "id": "9_RWf8myiPqf",
        "outputId": "0c577e2e-eda3-447b-96b4-31007b9a5c97"
      },
      "execution_count": null,
      "outputs": [
        {
          "output_type": "stream",
          "name": "stdout",
          "text": [
            "('Based on your preferences and the provided menu, here are three '\n",
            " 'recommendations:\\n'\n",
            " '\\n'\n",
            " '1. Tatar z polędwicy wołowej (Beef tenderloin tartare) from the \"Przystawki\" '\n",
            " '(Appetizers) section. This dish matches your preference for meat and can be '\n",
            " 'a unique and flavorful choice.\\n'\n",
            " '\\n'\n",
            " '2. Carpaccio jagnięce (Lamb carpaccio) from the \"Przystawki\" (Appetizers) '\n",
            " 'section. If you enjoy trying different types of meats, this lamb carpaccio '\n",
            " 'can be a delicious and tender option.\\n'\n",
            " '\\n'\n",
            " '3. Fregola from the \"Pasta\" section. Since you enjoy pizza, pasta can be a '\n",
            " 'great choice as well. Fregola is a unique type of pasta that you might find '\n",
            " 'interesting and satisfying.\\n'\n",
            " '\\n'\n",
            " 'Please note that the prices for certain items in the menu are obscured, so '\n",
            " 'it might be helpful to inquire about the prices before making a final '\n",
            " 'decision. Enjoy your meal!')\n"
          ]
        }
      ]
    },
    {
      "cell_type": "markdown",
      "source": [
        "# 3. Refine prompts for image generation"
      ],
      "metadata": {
        "id": "k61-7_VROTEW"
      }
    },
    {
      "cell_type": "code",
      "source": [
        "from openai import OpenAI\n",
        "\n",
        "def compute_prompt_for_image_generation(recommendations):\n",
        "  client = OpenAI()\n",
        "\n",
        "  completion = client.chat.completions.create(\n",
        "    model=\"gpt-3.5-turbo\",\n",
        "    messages=[\n",
        "      {\"role\": \"system\", \"content\": \"You are given in input three foods and you should list in output the correspoding image generation prompt. Don't write anything else besides the enumeration list (from 1 to 3). Like '1. Fist prompt...\\n2. Second prompt... \\n3. Thrid prompt...\"},\n",
        "      {\"role\": \"user\", \"content\": f\"Food recommendations: {recommendations}\"}\n",
        "    ]\n",
        "  )\n",
        "\n",
        "  food_prompts = completion.choices[0].message.content\n",
        "  return food_prompts"
      ],
      "metadata": {
        "id": "kgIaKq-6P_Gf"
      },
      "execution_count": null,
      "outputs": []
    },
    {
      "cell_type": "code",
      "source": [
        "food_prompts = compute_prompt_for_image_generation(recommendation_output)"
      ],
      "metadata": {
        "id": "OecPf0OYicFT"
      },
      "execution_count": null,
      "outputs": []
    },
    {
      "cell_type": "code",
      "source": [
        "f = open(f\"{general_path}/food_prompts_polish.txt\", \"w\")\n",
        "f.write(food_prompts)\n",
        "f.close()"
      ],
      "metadata": {
        "id": "peESBQ52vW7w"
      },
      "execution_count": null,
      "outputs": []
    },
    {
      "cell_type": "code",
      "source": [
        "with open(f\"{general_path}/food_prompts_indian.txt\", \"rb\") as image_file:\n",
        "  food_prompts = image_file.read().decode('utf-8')"
      ],
      "metadata": {
        "id": "RA3XWuYQ69Hr"
      },
      "execution_count": null,
      "outputs": []
    },
    {
      "cell_type": "code",
      "source": [
        "pprint(food_prompts)"
      ],
      "metadata": {
        "colab": {
          "base_uri": "https://localhost:8080/"
        },
        "id": "VXBp1KANigVG",
        "outputId": "c38326fd-2a63-4406-eb42-570af43e10bd"
      },
      "execution_count": null,
      "outputs": [
        {
          "output_type": "stream",
          "name": "stdout",
          "text": [
            "('1. Generate an image of beef tenderloin tartare: \\n'\n",
            " '\"Please generate an image of a visually appealing beef tenderloin tartare '\n",
            " 'dish with fresh ingredients and a beautiful presentation.\"\\n'\n",
            " '\\n'\n",
            " '2. Generate an image of lamb carpaccio: \\n'\n",
            " '\"Please generate an image of a visually stunning lamb carpaccio dish with '\n",
            " 'thinly sliced lamb, garnished with herbs and spices, and served with a '\n",
            " 'complementary sauce.\"\\n'\n",
            " '\\n'\n",
            " '3. Generate an image of fregola pasta: \\n'\n",
            " '\"Please generate an image of a mouthwatering plate of fregola pasta, cooked '\n",
            " 'al dente, tossed in a flavorful sauce, and topped with vibrant and colorful '\n",
            " 'ingredients.\"')\n"
          ]
        }
      ]
    },
    {
      "cell_type": "code",
      "source": [
        "def remove_enumeration(input_string):\n",
        "    # Define a regular expression pattern to match enumeration\n",
        "    pattern = re.compile(r'\\d+\\.\\s+')\n",
        "\n",
        "    # Use the sub method to replace matched patterns with an empty string\n",
        "    result_string = pattern.sub(\"\", input_string)\n",
        "\n",
        "    return result_string"
      ],
      "metadata": {
        "id": "wGp-NcPpfwmz"
      },
      "execution_count": null,
      "outputs": []
    },
    {
      "cell_type": "code",
      "source": [
        "output_string = remove_enumeration(food_prompts)"
      ],
      "metadata": {
        "id": "DQYoOS1fS5WA"
      },
      "execution_count": null,
      "outputs": []
    },
    {
      "cell_type": "code",
      "source": [
        "pprint(output_string)"
      ],
      "metadata": {
        "colab": {
          "base_uri": "https://localhost:8080/"
        },
        "id": "MxmQI_bHikdf",
        "outputId": "1dd826df-04bf-4bf2-d314-2eb0493f3c35"
      },
      "execution_count": null,
      "outputs": [
        {
          "output_type": "stream",
          "name": "stdout",
          "text": [
            "('Generate an image of beef tenderloin tartare: \\n'\n",
            " '\"Please generate an image of a visually appealing beef tenderloin tartare '\n",
            " 'dish with fresh ingredients and a beautiful presentation.\"\\n'\n",
            " '\\n'\n",
            " 'Generate an image of lamb carpaccio: \\n'\n",
            " '\"Please generate an image of a visually stunning lamb carpaccio dish with '\n",
            " 'thinly sliced lamb, garnished with herbs and spices, and served with a '\n",
            " 'complementary sauce.\"\\n'\n",
            " '\\n'\n",
            " 'Generate an image of fregola pasta: \\n'\n",
            " '\"Please generate an image of a mouthwatering plate of fregola pasta, cooked '\n",
            " 'al dente, tossed in a flavorful sauce, and topped with vibrant and colorful '\n",
            " 'ingredients.\"')\n"
          ]
        }
      ]
    },
    {
      "cell_type": "markdown",
      "source": [
        "# 4. Generate dish images"
      ],
      "metadata": {
        "id": "0c5LvuP9Ob7V"
      }
    },
    {
      "cell_type": "code",
      "source": [
        "def generate_image(prompt):\n",
        "  client = OpenAI()\n",
        "\n",
        "  response = client.images.generate(\n",
        "    model=\"dall-e-3\",\n",
        "    prompt=prompt,\n",
        "    size=\"1024x1024\",\n",
        "    quality=\"standard\",\n",
        "    n=1,\n",
        "  )\n",
        "\n",
        "  image_url = response.data[0].url\n",
        "  return image_url"
      ],
      "metadata": {
        "id": "V7yySCosMTxr"
      },
      "execution_count": null,
      "outputs": []
    },
    {
      "cell_type": "code",
      "source": [
        "image_prompts = output_string.split(\"\\n\")\n",
        "image_prompts = [t for t in image_prompts if t != \"\"]\n",
        "dalle_outputs = []\n",
        "\n",
        "for i in range(3):\n",
        "  url = generate_image(image_prompts[i])\n",
        "  dalle_outputs.append(url)"
      ],
      "metadata": {
        "id": "IeYCkp_mi4Ds"
      },
      "execution_count": null,
      "outputs": []
    },
    {
      "cell_type": "code",
      "source": [],
      "metadata": {
        "id": "YjnPKQUSpTdh"
      },
      "execution_count": null,
      "outputs": []
    },
    {
      "cell_type": "markdown",
      "source": [
        "## Save images"
      ],
      "metadata": {
        "id": "7iMMvF1RtUwX"
      }
    },
    {
      "cell_type": "code",
      "source": [
        "for i, url in enumerate(dalle_outputs):\n",
        "  data = requests.get(url).content\n",
        "\n",
        "  generated_folder_path = f\"{general_path}/generated_photos/{image_name}\"\n",
        "  if not os.path.exists(generated_folder_path):\n",
        "    os.makedirs(generated_folder_path)\n",
        "\n",
        "  with open(f\"{generated_folder_path}/img_{i}.jpg\", 'wb') as f:\n",
        "    f.write(data)"
      ],
      "metadata": {
        "id": "ECy2ffM1o9vN"
      },
      "execution_count": null,
      "outputs": []
    },
    {
      "cell_type": "code",
      "source": [
        "import requests\n",
        "from PIL import Image\n",
        "\n",
        "def save_generated_images(image_urls, folder_path):\n",
        "  for i, url in enumerate(image_urls):\n",
        "    data = requests.get(url).content\n",
        "\n",
        "    if not os.path.exists(folder_path):\n",
        "      os.makedirs(folder_path)\n",
        "\n",
        "    with open(f\"{folder_path}/img_{i}.jpg\", 'wb') as f:\n",
        "      f.write(data)"
      ],
      "metadata": {
        "id": "MizUzRh4V_6R"
      },
      "execution_count": null,
      "outputs": []
    },
    {
      "cell_type": "code",
      "source": [],
      "metadata": {
        "id": "swqvgfERWWjr"
      },
      "execution_count": null,
      "outputs": []
    },
    {
      "cell_type": "code",
      "source": [
        "img = Image.open(f'{general_path}/img.jpg')\n",
        "img.show()"
      ],
      "metadata": {
        "id": "jdGEh1m1WeSs"
      },
      "execution_count": null,
      "outputs": []
    },
    {
      "cell_type": "code",
      "source": [],
      "metadata": {
        "id": "wj-2lRCjtKoO"
      },
      "execution_count": null,
      "outputs": []
    },
    {
      "cell_type": "markdown",
      "source": [
        "# Interaction with Gradio"
      ],
      "metadata": {
        "id": "v-1KtWcVtMKi"
      }
    },
    {
      "cell_type": "code",
      "source": [
        "!pip install gradio"
      ],
      "metadata": {
        "id": "t320brW8tKkx"
      },
      "execution_count": null,
      "outputs": []
    },
    {
      "cell_type": "code",
      "source": [
        "def from_menu_to_recommendations(image_path, photos_descriptions, food_categories):\n",
        "  base64_image = encode_image(image_path)\n",
        "  menu_content = get_menu_content(base64_image).json()['choices'][0]['message']['content']\n",
        "  recommendation_output = get_recommendation(menu_content, photos_descriptions,food_categories).content\n",
        "  food_prompts = compute_prompt_for_image_generation(recommendation_output)\n",
        "\n",
        "  output_string = remove_enumeration(food_prompts)\n",
        "  print(output_string)\n",
        "\n",
        "  image_prompts = output_string.split(\"\\n\")\n",
        "  image_prompts = [t for t in image_prompts if t != \"\"]\n",
        "  dalle_outputs = []\n",
        "\n",
        "  for i in range(3):\n",
        "    url = generate_image(image_prompts[i])\n",
        "    dalle_outputs.append(url)\n",
        "\n",
        "  generated_folder_path = f\"{general_path}/generated_photos/{image_name}\"\n",
        "  save_generated_images(dalle_outputs, generated_folder_path)\n",
        "\n",
        "  return recommendation_output, dalle_outputs"
      ],
      "metadata": {
        "id": "pp2hFb1kyqiq"
      },
      "execution_count": null,
      "outputs": []
    },
    {
      "cell_type": "code",
      "source": [
        "# image_path = f\"{general_path}/recordings/menu.png\"\n",
        "\n",
        "def start_app(text):\n",
        "  recommendation_output, generated_images = from_menu_to_recommendations(image_path, photos_str)\n",
        "  # return recommendation_output, dalle_outputs[0],dalle_outputs[1], dalle_outputs[2]\n",
        "  return recommendation_output, generated_images[0], generated_images[1], generated_images[2]"
      ],
      "metadata": {
        "id": "bTGREwX00Rp8"
      },
      "execution_count": null,
      "outputs": []
    },
    {
      "cell_type": "code",
      "source": [
        "import gradio as gr\n",
        "\n",
        "demo = gr.Interface(fn=start_app, inputs=\"text\", outputs=[\"text\", \"image\", \"image\", \"image\"])"
      ],
      "metadata": {
        "id": "j-ASiJ2IzyrS"
      },
      "execution_count": null,
      "outputs": []
    },
    {
      "cell_type": "code",
      "source": [
        "demo.launch()"
      ],
      "metadata": {
        "id": "FcU2JAbi8gi_"
      },
      "execution_count": null,
      "outputs": []
    },
    {
      "cell_type": "code",
      "source": [
        "# if __name__ == \"__main__\":\n",
        "#     demo.launch(show_api=False, debug=True)"
      ],
      "metadata": {
        "id": "D1V9keal01-B"
      },
      "execution_count": null,
      "outputs": []
    },
    {
      "cell_type": "code",
      "source": [],
      "metadata": {
        "id": "sVRCP9SO02tm"
      },
      "execution_count": null,
      "outputs": []
    }
  ]
}